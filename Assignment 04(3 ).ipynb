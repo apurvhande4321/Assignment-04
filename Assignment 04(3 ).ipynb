{
 "cells": [
  {
   "cell_type": "markdown",
   "id": "1d68203e",
   "metadata": {},
   "source": [
    "Write a Python program to square the elements of a list using map() function.\n",
    "\n"
   ]
  },
  {
   "cell_type": "code",
   "execution_count": 1,
   "id": "7e044db6",
   "metadata": {},
   "outputs": [
    {
     "name": "stdout",
     "output_type": "stream",
     "text": [
      "enter the list,1 2 3 45 67 89\n",
      "[1, 4, 9, 2025, 4489, 7921]\n"
     ]
    }
   ],
   "source": [
    "z = list(map(int,input('enter the list,').split(' ')))\n",
    "s = list(map(lambda x:x**2,z))\n",
    "print(s)"
   ]
  }
 ],
 "metadata": {
  "kernelspec": {
   "display_name": "Python 3 (ipykernel)",
   "language": "python",
   "name": "python3"
  },
  "language_info": {
   "codemirror_mode": {
    "name": "ipython",
    "version": 3
   },
   "file_extension": ".py",
   "mimetype": "text/x-python",
   "name": "python",
   "nbconvert_exporter": "python",
   "pygments_lexer": "ipython3",
   "version": "3.9.7"
  }
 },
 "nbformat": 4,
 "nbformat_minor": 5
}
